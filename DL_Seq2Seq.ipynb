{
  "nbformat": 4,
  "nbformat_minor": 0,
  "metadata": {
    "colab": {
      "provenance": []
    },
    "kernelspec": {
      "name": "python3",
      "display_name": "Python 3"
    },
    "language_info": {
      "name": "python"
    }
  },
  "cells": [
    {
      "cell_type": "code",
      "metadata": {
        "colab": {
          "base_uri": "https://localhost:8080/"
        },
        "id": "qc-3fU5WhBaP",
        "outputId": "aef77991-204e-48ef-d850-c6fc9ca97013"
      },
      "source": [
        "import os\n",
        "from google.colab import drive\n",
        "from keras.preprocessing.image import ImageDataGenerator\n",
        "drive.mount('/content/drive')\n",
        "os.chdir('/content/drive/MyDrive/DeepLearning/seq2seq')"
      ],
      "execution_count": null,
      "outputs": [
        {
          "output_type": "stream",
          "name": "stdout",
          "text": [
            "Mounted at /content/drive\n"
          ]
        }
      ]
    },
    {
      "cell_type": "markdown",
      "metadata": {
        "id": "5crDy4jTshFm"
      },
      "source": [
        "### Data : Tab-delimited Bilingual Sentence Pairs"
      ]
    },
    {
      "cell_type": "code",
      "metadata": {
        "id": "l-fBZ2pOhKM9"
      },
      "source": [
        "import string\n",
        "import numpy as np\n",
        "\n",
        "from keras.preprocessing.text import Tokenizer\n",
        "from keras.preprocessing.sequence import pad_sequences\n",
        "from keras.models import Model\n",
        "from keras.layers import LSTM, Input, TimeDistributed, Dense, Activation, RepeatVector, Embedding\n",
        "from keras.optimizers import *\n",
        "from keras.losses import sparse_categorical_crossentropy\n",
        "import pandas as pd\n",
        "# Path to translation file\n",
        "path_to_data = 'hin.txt'\n",
        "\n",
        "data=pd.read_csv(\"hin.txt\",sep='\\t',usecols=['Eng','Hin'])"
      ],
      "execution_count": null,
      "outputs": []
    },
    {
      "cell_type": "code",
      "metadata": {
        "colab": {
          "base_uri": "https://localhost:8080/",
          "height": 423
        },
        "id": "cG7Nbg2nhemv",
        "outputId": "8ce43b71-3515-49e1-ef55-59aead363db7"
      },
      "source": [
        "data"
      ],
      "execution_count": null,
      "outputs": [
        {
          "output_type": "execute_result",
          "data": {
            "text/html": [
              "<div>\n",
              "<style scoped>\n",
              "    .dataframe tbody tr th:only-of-type {\n",
              "        vertical-align: middle;\n",
              "    }\n",
              "\n",
              "    .dataframe tbody tr th {\n",
              "        vertical-align: top;\n",
              "    }\n",
              "\n",
              "    .dataframe thead th {\n",
              "        text-align: right;\n",
              "    }\n",
              "</style>\n",
              "<table border=\"1\" class=\"dataframe\">\n",
              "  <thead>\n",
              "    <tr style=\"text-align: right;\">\n",
              "      <th></th>\n",
              "      <th>Eng</th>\n",
              "      <th>Hin</th>\n",
              "    </tr>\n",
              "  </thead>\n",
              "  <tbody>\n",
              "    <tr>\n",
              "      <th>0</th>\n",
              "      <td>Wow!</td>\n",
              "      <td>वाह!</td>\n",
              "    </tr>\n",
              "    <tr>\n",
              "      <th>1</th>\n",
              "      <td>Duck!</td>\n",
              "      <td>झुको!</td>\n",
              "    </tr>\n",
              "    <tr>\n",
              "      <th>2</th>\n",
              "      <td>Duck!</td>\n",
              "      <td>बतख़!</td>\n",
              "    </tr>\n",
              "    <tr>\n",
              "      <th>3</th>\n",
              "      <td>Help!</td>\n",
              "      <td>बचाओ!</td>\n",
              "    </tr>\n",
              "    <tr>\n",
              "      <th>4</th>\n",
              "      <td>Jump.</td>\n",
              "      <td>उछलो.</td>\n",
              "    </tr>\n",
              "    <tr>\n",
              "      <th>...</th>\n",
              "      <td>...</td>\n",
              "      <td>...</td>\n",
              "    </tr>\n",
              "    <tr>\n",
              "      <th>2944</th>\n",
              "      <td>If you go to that supermarket, you can buy mos...</td>\n",
              "      <td>उस सूपरमार्केट में तुम लगभग कोई भी रोजाने में ...</td>\n",
              "    </tr>\n",
              "    <tr>\n",
              "      <th>2945</th>\n",
              "      <td>The passengers who were injured in the acciden...</td>\n",
              "      <td>जिन यात्रियों को दुर्घटना मे चोट आई थी उन्हे अ...</td>\n",
              "    </tr>\n",
              "    <tr>\n",
              "      <th>2946</th>\n",
              "      <td>Democracy is the worst form of government, exc...</td>\n",
              "      <td>लोकतंत्र सरकार का सबसे घिनौना रूप है, अगर बाकी...</td>\n",
              "    </tr>\n",
              "    <tr>\n",
              "      <th>2947</th>\n",
              "      <td>If my boy had not been killed in the traffic a...</td>\n",
              "      <td>अगर मेरा बेटा ट्रेफ़िक हादसे में नहीं मारा गया...</td>\n",
              "    </tr>\n",
              "    <tr>\n",
              "      <th>2948</th>\n",
              "      <td>When I was a kid, touching bugs didn't bother ...</td>\n",
              "      <td>जब मैं बच्चा था, मुझे कीड़ों को छूने से कोई पर...</td>\n",
              "    </tr>\n",
              "  </tbody>\n",
              "</table>\n",
              "<p>2949 rows × 2 columns</p>\n",
              "</div>"
            ],
            "text/plain": [
              "                                                    Eng                                                Hin\n",
              "0                                                  Wow!                                               वाह!\n",
              "1                                                 Duck!                                              झुको!\n",
              "2                                                 Duck!                                              बतख़!\n",
              "3                                                 Help!                                              बचाओ!\n",
              "4                                                 Jump.                                              उछलो.\n",
              "...                                                 ...                                                ...\n",
              "2944  If you go to that supermarket, you can buy mos...  उस सूपरमार्केट में तुम लगभग कोई भी रोजाने में ...\n",
              "2945  The passengers who were injured in the acciden...  जिन यात्रियों को दुर्घटना मे चोट आई थी उन्हे अ...\n",
              "2946  Democracy is the worst form of government, exc...  लोकतंत्र सरकार का सबसे घिनौना रूप है, अगर बाकी...\n",
              "2947  If my boy had not been killed in the traffic a...  अगर मेरा बेटा ट्रेफ़िक हादसे में नहीं मारा गया...\n",
              "2948  When I was a kid, touching bugs didn't bother ...  जब मैं बच्चा था, मुझे कीड़ों को छूने से कोई पर...\n",
              "\n",
              "[2949 rows x 2 columns]"
            ]
          },
          "metadata": {},
          "execution_count": 3
        }
      ]
    },
    {
      "cell_type": "code",
      "metadata": {
        "id": "uenGoeBehjC0"
      },
      "source": [
        "def clean_sentence(sentence):\n",
        "    # Lower case the sentence\n",
        "    lower_case_sent = sentence.lower()\n",
        "    # Strip punctuation\n",
        "    string_punctuation = string.punctuation + \"!\" + '.' + '।'\n",
        "    clean_sentence = lower_case_sent.translate(str.maketrans('', '', string_punctuation))\n",
        "   \n",
        "    return clean_sentence"
      ],
      "execution_count": null,
      "outputs": []
    },
    {
      "cell_type": "code",
      "metadata": {
        "id": "PAsTpOHWkg17"
      },
      "source": [
        "def tokenize(sentences):\n",
        "    # Create tokenizer\n",
        "    text_tokenizer = Tokenizer()\n",
        "    # Fit texts\n",
        "    text_tokenizer.fit_on_texts(sentences)\n",
        "    return text_tokenizer.texts_to_sequences(sentences), text_tokenizer"
      ],
      "execution_count": null,
      "outputs": []
    },
    {
      "cell_type": "code",
      "metadata": {
        "colab": {
          "base_uri": "https://localhost:8080/"
        },
        "id": "2jWjcxrNkjEj",
        "outputId": "0859c68a-b696-4b7a-b74a-9adb9aa1f22b"
      },
      "source": [
        "# Clean sentences\n",
        "english_sentences = [clean_sentence(pair) for pair in data['Eng']]\n",
        "hindi_sentences = [clean_sentence(pair) for pair in data['Hin']]\n",
        "\n",
        "# Tokenize words\n",
        "hin_text_tokenized, hin_text_tokenizer = tokenize(hindi_sentences)\n",
        "eng_text_tokenized, eng_text_tokenizer = tokenize(english_sentences)\n",
        "\n",
        "print('Maximum length hindi sentence: {}'.format(len(max(hin_text_tokenized,key=len))))\n",
        "print('Maximum length english sentence: {}'.format(len(max(eng_text_tokenized,key=len))))\n",
        "\n",
        "\n",
        "# Check language length\n",
        "hindi_vocab = len(hin_text_tokenizer.word_index) + 1\n",
        "english_vocab = len(eng_text_tokenizer.word_index) + 1\n",
        "print(\"Hindi vocabulary is of {} unique words\".format(hindi_vocab))\n",
        "print(\"English vocabulary is of {} unique words\".format(english_vocab))"
      ],
      "execution_count": null,
      "outputs": [
        {
          "output_type": "stream",
          "name": "stdout",
          "text": [
            "Maximum length hindi sentence: 25\n",
            "Maximum length english sentence: 22\n",
            "Hindi vocabulary is of 2919 unique words\n",
            "English vocabulary is of 2429 unique words\n"
          ]
        }
      ]
    },
    {
      "cell_type": "code",
      "metadata": {
        "id": "cUtINSWtlq4w"
      },
      "source": [
        "max_hindi_len = int(len(max(hin_text_tokenized,key=len)))\n",
        "max_english_len = int(len(max(eng_text_tokenized,key=len)))\n",
        "\n",
        "hin_pad_sentence = pad_sequences(hin_text_tokenized, max_hindi_len, padding = \"post\")\n",
        "eng_pad_sentence = pad_sequences(eng_text_tokenized, max_english_len, padding = \"post\")\n",
        "\n",
        "# Reshape data\n",
        "hin_pad_sentence = hin_pad_sentence.reshape(*hin_pad_sentence.shape, 1)\n",
        "eng_pad_sentence = eng_pad_sentence.reshape(*eng_pad_sentence.shape, 1)"
      ],
      "execution_count": null,
      "outputs": []
    },
    {
      "cell_type": "code",
      "metadata": {
        "colab": {
          "base_uri": "https://localhost:8080/"
        },
        "id": "jA12UWBUmV6z",
        "outputId": "74078ae7-4d41-4203-a80c-73ba11f29dcb"
      },
      "source": [
        "# Encoder\n",
        "input_sequence = Input(shape=(max_hindi_len,))\n",
        "embedding = Embedding(input_dim=hindi_vocab, output_dim=128,)(input_sequence)\n",
        "encoder = LSTM(64, return_sequences=False)(embedding)\n",
        "\n",
        "# Decoder\n",
        "\n",
        "input_sequence = Input(shape=(max_hindi_len,))\n",
        "embedding = Embedding(input_dim=hindi_vocab, output_dim=128,)(input_sequence)\n",
        "encoder = LSTM(64, return_sequences=False)(embedding)\n",
        "r_vec = RepeatVector(max_english_len)(encoder)\n",
        "decoder = LSTM(64, return_sequences=True, dropout=0.2)(r_vec)\n",
        "logits = TimeDistributed(Dense(english_vocab))(decoder)\n",
        "\n",
        "enc_dec_model = Model(input_sequence, Activation('softmax')(logits))\n",
        "enc_dec_model.compile(loss=sparse_categorical_crossentropy,\n",
        "              optimizer='adam',\n",
        "              metrics=['accuracy'])\n",
        "enc_dec_model.summary()\n"
      ],
      "execution_count": null,
      "outputs": [
        {
          "output_type": "stream",
          "name": "stdout",
          "text": [
            "Model: \"model\"\n",
            "_________________________________________________________________\n",
            "Layer (type)                 Output Shape              Param #   \n",
            "=================================================================\n",
            "input_2 (InputLayer)         [(None, 25)]              0         \n",
            "_________________________________________________________________\n",
            "embedding_1 (Embedding)      (None, 25, 128)           373632    \n",
            "_________________________________________________________________\n",
            "lstm_1 (LSTM)                (None, 64)                49408     \n",
            "_________________________________________________________________\n",
            "repeat_vector (RepeatVector) (None, 22, 64)            0         \n",
            "_________________________________________________________________\n",
            "lstm_2 (LSTM)                (None, 22, 64)            33024     \n",
            "_________________________________________________________________\n",
            "time_distributed (TimeDistri (None, 22, 2429)          157885    \n",
            "_________________________________________________________________\n",
            "activation (Activation)      (None, 22, 2429)          0         \n",
            "=================================================================\n",
            "Total params: 613,949\n",
            "Trainable params: 613,949\n",
            "Non-trainable params: 0\n",
            "_________________________________________________________________\n"
          ]
        }
      ]
    },
    {
      "cell_type": "code",
      "metadata": {
        "colab": {
          "base_uri": "https://localhost:8080/"
        },
        "id": "a4NIPiXgmuFb",
        "outputId": "3e62f1fd-0321-4444-b22c-e0f64cf36b45"
      },
      "source": [
        "model_results = enc_dec_model.fit(hin_pad_sentence, eng_pad_sentence, batch_size=30, epochs=100)\n"
      ],
      "execution_count": null,
      "outputs": [
        {
          "output_type": "stream",
          "name": "stdout",
          "text": [
            "Epoch 1/100\n",
            "99/99 [==============================] - 11s 74ms/step - loss: 3.8371 - accuracy: 0.7106\n",
            "Epoch 2/100\n",
            "99/99 [==============================] - 7s 74ms/step - loss: 2.1149 - accuracy: 0.7176\n",
            "Epoch 3/100\n",
            "99/99 [==============================] - 7s 74ms/step - loss: 1.9843 - accuracy: 0.7178\n",
            "Epoch 4/100\n",
            "99/99 [==============================] - 7s 74ms/step - loss: 1.9366 - accuracy: 0.7251\n",
            "Epoch 5/100\n",
            "99/99 [==============================] - 7s 74ms/step - loss: 1.9092 - accuracy: 0.7255\n",
            "Epoch 6/100\n",
            "99/99 [==============================] - 7s 73ms/step - loss: 1.8882 - accuracy: 0.7262\n",
            "Epoch 7/100\n",
            "99/99 [==============================] - 7s 74ms/step - loss: 1.8767 - accuracy: 0.7278\n",
            "Epoch 8/100\n",
            "99/99 [==============================] - 7s 75ms/step - loss: 1.8698 - accuracy: 0.7281\n",
            "Epoch 9/100\n",
            "99/99 [==============================] - 7s 74ms/step - loss: 1.8611 - accuracy: 0.7283\n",
            "Epoch 10/100\n",
            "99/99 [==============================] - 7s 74ms/step - loss: 1.8544 - accuracy: 0.7286\n",
            "Epoch 11/100\n",
            "99/99 [==============================] - 7s 74ms/step - loss: 1.8497 - accuracy: 0.7288\n",
            "Epoch 12/100\n",
            "99/99 [==============================] - 7s 73ms/step - loss: 1.8440 - accuracy: 0.7285\n",
            "Epoch 13/100\n",
            "99/99 [==============================] - 7s 74ms/step - loss: 1.8397 - accuracy: 0.7286\n",
            "Epoch 14/100\n",
            "99/99 [==============================] - 7s 74ms/step - loss: 1.8356 - accuracy: 0.7288\n",
            "Epoch 15/100\n",
            "99/99 [==============================] - 7s 74ms/step - loss: 1.8340 - accuracy: 0.7286\n",
            "Epoch 16/100\n",
            "99/99 [==============================] - 7s 74ms/step - loss: 1.8315 - accuracy: 0.7288\n",
            "Epoch 17/100\n",
            "99/99 [==============================] - 7s 74ms/step - loss: 1.8266 - accuracy: 0.7285\n",
            "Epoch 18/100\n",
            "99/99 [==============================] - 7s 74ms/step - loss: 1.8235 - accuracy: 0.7286\n",
            "Epoch 19/100\n",
            "99/99 [==============================] - 7s 74ms/step - loss: 1.8218 - accuracy: 0.7285\n",
            "Epoch 20/100\n",
            "99/99 [==============================] - 7s 73ms/step - loss: 1.8195 - accuracy: 0.7286\n",
            "Epoch 21/100\n",
            "99/99 [==============================] - 7s 74ms/step - loss: 1.8161 - accuracy: 0.7287\n",
            "Epoch 22/100\n",
            "99/99 [==============================] - 7s 75ms/step - loss: 1.8132 - accuracy: 0.7285\n",
            "Epoch 23/100\n",
            "99/99 [==============================] - 7s 74ms/step - loss: 1.8124 - accuracy: 0.7288\n",
            "Epoch 24/100\n",
            "99/99 [==============================] - 7s 74ms/step - loss: 1.8095 - accuracy: 0.7289\n",
            "Epoch 25/100\n",
            "99/99 [==============================] - 7s 75ms/step - loss: 1.8077 - accuracy: 0.7286\n",
            "Epoch 26/100\n",
            "99/99 [==============================] - 7s 74ms/step - loss: 1.8048 - accuracy: 0.7286\n",
            "Epoch 27/100\n",
            "99/99 [==============================] - 7s 74ms/step - loss: 1.8028 - accuracy: 0.7287\n",
            "Epoch 28/100\n",
            "99/99 [==============================] - 7s 74ms/step - loss: 1.8008 - accuracy: 0.7288\n",
            "Epoch 29/100\n",
            "99/99 [==============================] - 7s 74ms/step - loss: 1.7995 - accuracy: 0.7289\n",
            "Epoch 30/100\n",
            "99/99 [==============================] - 7s 74ms/step - loss: 1.7973 - accuracy: 0.7286\n",
            "Epoch 31/100\n",
            "99/99 [==============================] - 7s 74ms/step - loss: 1.7957 - accuracy: 0.7288\n",
            "Epoch 32/100\n",
            "99/99 [==============================] - 7s 75ms/step - loss: 1.7935 - accuracy: 0.7289\n",
            "Epoch 33/100\n",
            "99/99 [==============================] - 7s 75ms/step - loss: 1.7930 - accuracy: 0.7288\n",
            "Epoch 34/100\n",
            "99/99 [==============================] - 7s 75ms/step - loss: 1.7907 - accuracy: 0.7288\n",
            "Epoch 35/100\n",
            "99/99 [==============================] - 7s 75ms/step - loss: 1.7891 - accuracy: 0.7290\n",
            "Epoch 36/100\n",
            "99/99 [==============================] - 7s 74ms/step - loss: 1.7874 - accuracy: 0.7290\n",
            "Epoch 37/100\n",
            "99/99 [==============================] - 7s 75ms/step - loss: 1.7861 - accuracy: 0.7288\n",
            "Epoch 38/100\n",
            "99/99 [==============================] - 7s 75ms/step - loss: 1.7839 - accuracy: 0.7292\n",
            "Epoch 39/100\n",
            "99/99 [==============================] - 7s 75ms/step - loss: 1.7831 - accuracy: 0.7286\n",
            "Epoch 40/100\n",
            "99/99 [==============================] - 7s 75ms/step - loss: 1.7813 - accuracy: 0.7290\n",
            "Epoch 41/100\n",
            "99/99 [==============================] - 7s 75ms/step - loss: 1.7798 - accuracy: 0.7289\n",
            "Epoch 42/100\n",
            "99/99 [==============================] - 7s 74ms/step - loss: 1.7794 - accuracy: 0.7290\n",
            "Epoch 43/100\n",
            "99/99 [==============================] - 7s 75ms/step - loss: 1.7775 - accuracy: 0.7287\n",
            "Epoch 44/100\n",
            "99/99 [==============================] - 7s 74ms/step - loss: 1.7758 - accuracy: 0.7291\n",
            "Epoch 45/100\n",
            "99/99 [==============================] - 7s 74ms/step - loss: 1.7751 - accuracy: 0.7289\n",
            "Epoch 46/100\n",
            "99/99 [==============================] - 7s 74ms/step - loss: 1.7737 - accuracy: 0.7290\n",
            "Epoch 47/100\n",
            "99/99 [==============================] - 7s 74ms/step - loss: 1.7724 - accuracy: 0.7288\n",
            "Epoch 48/100\n",
            "99/99 [==============================] - 7s 75ms/step - loss: 1.7712 - accuracy: 0.7290\n",
            "Epoch 49/100\n",
            "99/99 [==============================] - 7s 74ms/step - loss: 1.7696 - accuracy: 0.7290\n",
            "Epoch 50/100\n",
            "99/99 [==============================] - 7s 75ms/step - loss: 1.7687 - accuracy: 0.7288\n",
            "Epoch 51/100\n",
            "99/99 [==============================] - 7s 75ms/step - loss: 1.7675 - accuracy: 0.7289\n",
            "Epoch 52/100\n",
            "99/99 [==============================] - 7s 74ms/step - loss: 1.7668 - accuracy: 0.7287\n",
            "Epoch 53/100\n",
            "99/99 [==============================] - 7s 75ms/step - loss: 1.7651 - accuracy: 0.7288\n",
            "Epoch 54/100\n",
            "99/99 [==============================] - 7s 74ms/step - loss: 1.7630 - accuracy: 0.7288\n",
            "Epoch 55/100\n",
            "99/99 [==============================] - 7s 75ms/step - loss: 1.7625 - accuracy: 0.7288\n",
            "Epoch 56/100\n",
            "99/99 [==============================] - 7s 75ms/step - loss: 1.7612 - accuracy: 0.7288\n",
            "Epoch 57/100\n",
            "99/99 [==============================] - 7s 75ms/step - loss: 1.7598 - accuracy: 0.7292\n",
            "Epoch 58/100\n",
            "99/99 [==============================] - 7s 74ms/step - loss: 1.7609 - accuracy: 0.7287\n",
            "Epoch 59/100\n",
            "99/99 [==============================] - 7s 74ms/step - loss: 1.7558 - accuracy: 0.7286\n",
            "Epoch 60/100\n",
            "99/99 [==============================] - 7s 75ms/step - loss: 1.7102 - accuracy: 0.7303\n",
            "Epoch 61/100\n",
            "99/99 [==============================] - 7s 74ms/step - loss: 1.6738 - accuracy: 0.7327\n",
            "Epoch 62/100\n",
            "99/99 [==============================] - 7s 75ms/step - loss: 1.6507 - accuracy: 0.7337\n",
            "Epoch 63/100\n",
            "99/99 [==============================] - 7s 75ms/step - loss: 1.6292 - accuracy: 0.7347\n",
            "Epoch 64/100\n",
            "99/99 [==============================] - 7s 74ms/step - loss: 1.6135 - accuracy: 0.7357\n",
            "Epoch 65/100\n",
            "99/99 [==============================] - 7s 74ms/step - loss: 1.6006 - accuracy: 0.7364\n",
            "Epoch 66/100\n",
            "99/99 [==============================] - 7s 74ms/step - loss: 1.5902 - accuracy: 0.7370\n",
            "Epoch 67/100\n",
            "99/99 [==============================] - 7s 74ms/step - loss: 1.5816 - accuracy: 0.7373\n",
            "Epoch 68/100\n",
            "99/99 [==============================] - 7s 75ms/step - loss: 1.5723 - accuracy: 0.7378\n",
            "Epoch 69/100\n",
            "99/99 [==============================] - 7s 74ms/step - loss: 1.5639 - accuracy: 0.7380\n",
            "Epoch 70/100\n",
            "99/99 [==============================] - 7s 74ms/step - loss: 1.5587 - accuracy: 0.7384\n",
            "Epoch 71/100\n",
            "99/99 [==============================] - 7s 74ms/step - loss: 1.5530 - accuracy: 0.7384\n",
            "Epoch 72/100\n",
            "99/99 [==============================] - 7s 74ms/step - loss: 1.5455 - accuracy: 0.7388\n",
            "Epoch 73/100\n",
            "99/99 [==============================] - 7s 75ms/step - loss: 1.5387 - accuracy: 0.7389\n",
            "Epoch 74/100\n",
            "99/99 [==============================] - 7s 74ms/step - loss: 1.5336 - accuracy: 0.7389\n",
            "Epoch 75/100\n",
            "99/99 [==============================] - 7s 74ms/step - loss: 1.5280 - accuracy: 0.7389\n",
            "Epoch 76/100\n",
            "99/99 [==============================] - 7s 74ms/step - loss: 1.5254 - accuracy: 0.7389\n",
            "Epoch 77/100\n",
            "99/99 [==============================] - 7s 75ms/step - loss: 1.5186 - accuracy: 0.7392\n",
            "Epoch 78/100\n",
            "99/99 [==============================] - 7s 74ms/step - loss: 1.5136 - accuracy: 0.7392\n",
            "Epoch 79/100\n",
            "99/99 [==============================] - 7s 74ms/step - loss: 1.5111 - accuracy: 0.7390\n",
            "Epoch 80/100\n",
            "99/99 [==============================] - 7s 75ms/step - loss: 1.5057 - accuracy: 0.7394\n",
            "Epoch 81/100\n",
            "99/99 [==============================] - 7s 74ms/step - loss: 1.5006 - accuracy: 0.7394\n",
            "Epoch 82/100\n",
            "99/99 [==============================] - 7s 75ms/step - loss: 1.4942 - accuracy: 0.7395\n",
            "Epoch 83/100\n",
            "99/99 [==============================] - 7s 75ms/step - loss: 1.4905 - accuracy: 0.7394\n",
            "Epoch 84/100\n",
            "99/99 [==============================] - 7s 75ms/step - loss: 1.4834 - accuracy: 0.7401\n",
            "Epoch 85/100\n",
            "99/99 [==============================] - 7s 74ms/step - loss: 1.4748 - accuracy: 0.7415\n",
            "Epoch 86/100\n",
            "99/99 [==============================] - 7s 75ms/step - loss: 1.4686 - accuracy: 0.7430\n",
            "Epoch 87/100\n",
            "99/99 [==============================] - 7s 75ms/step - loss: 1.4598 - accuracy: 0.7435\n",
            "Epoch 88/100\n",
            "99/99 [==============================] - 7s 75ms/step - loss: 1.4515 - accuracy: 0.7449\n",
            "Epoch 89/100\n",
            "99/99 [==============================] - 7s 75ms/step - loss: 1.4430 - accuracy: 0.7453\n",
            "Epoch 90/100\n",
            "99/99 [==============================] - 7s 75ms/step - loss: 1.4336 - accuracy: 0.7463\n",
            "Epoch 91/100\n",
            "99/99 [==============================] - 7s 75ms/step - loss: 1.4264 - accuracy: 0.7468\n",
            "Epoch 92/100\n",
            "99/99 [==============================] - 7s 75ms/step - loss: 1.4175 - accuracy: 0.7475\n",
            "Epoch 93/100\n",
            "99/99 [==============================] - 7s 75ms/step - loss: 1.4104 - accuracy: 0.7476\n",
            "Epoch 94/100\n",
            "99/99 [==============================] - 7s 75ms/step - loss: 1.4057 - accuracy: 0.7479\n",
            "Epoch 95/100\n",
            "99/99 [==============================] - 7s 75ms/step - loss: 1.3997 - accuracy: 0.7488\n",
            "Epoch 96/100\n",
            "99/99 [==============================] - 7s 75ms/step - loss: 1.3942 - accuracy: 0.7484\n",
            "Epoch 97/100\n",
            "99/99 [==============================] - 7s 74ms/step - loss: 1.3870 - accuracy: 0.7490\n",
            "Epoch 98/100\n",
            "99/99 [==============================] - 7s 74ms/step - loss: 1.3798 - accuracy: 0.7495\n",
            "Epoch 99/100\n",
            "99/99 [==============================] - 7s 75ms/step - loss: 1.3739 - accuracy: 0.7493\n",
            "Epoch 100/100\n",
            "99/99 [==============================] - 7s 75ms/step - loss: 1.3692 - accuracy: 0.7498\n"
          ]
        }
      ]
    },
    {
      "cell_type": "code",
      "metadata": {
        "colab": {
          "base_uri": "https://localhost:8080/"
        },
        "id": "qnpc5-OfpRxL",
        "outputId": "dfe4d722-19e7-4edb-b851-2b456b1cb3c5"
      },
      "source": [
        "def logits_to_sentence(logits, tokenizer):\n",
        "\n",
        "    index_to_words = {idx: word for word, idx in tokenizer.word_index.items()}\n",
        "    index_to_words[0] = '<empty>' \n",
        "\n",
        "    return ' '.join([index_to_words[prediction] for prediction in np.argmax(logits, 1)])\n",
        "\n",
        "index = 6\n",
        "print(\"The english sentence is: {}\".format(english_sentences[index]))\n",
        "print(\"The hindi sentence is: {}\".format(hindi_sentences[index]))\n",
        "print('The predicted sentence is :')\n",
        "print(logits_to_sentence(enc_dec_model.predict(hin_pad_sentence[index:index+1])[0], eng_text_tokenizer))\n"
      ],
      "execution_count": null,
      "outputs": [
        {
          "output_type": "stream",
          "name": "stdout",
          "text": [
            "The english sentence is: jump\n",
            "The hindi sentence is: छलांग\n",
            "The predicted sentence is :\n",
            "jump <empty> <empty> <empty> <empty> <empty> <empty> <empty> <empty> <empty> <empty> <empty> <empty> <empty> <empty> <empty> <empty> <empty> <empty> <empty> <empty> <empty>\n"
          ]
        }
      ]
    },
    {
      "cell_type": "code",
      "metadata": {
        "id": "Kt7tJq-mtRNO"
      },
      "source": [],
      "execution_count": null,
      "outputs": []
    }
  ]
}